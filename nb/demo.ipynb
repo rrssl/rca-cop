{
 "cells": [
  {
   "cell_type": "code",
   "execution_count": 1,
   "id": "b97c60c5-1c25-481f-a1c5-508ecbd1f344",
   "metadata": {
    "tags": []
   },
   "outputs": [],
   "source": [
    "from pathlib import Path\n",
    "\n",
    "import geopandas as gpd\n",
    "import folium\n",
    "import ipywidgets as widgets\n",
    "import matplotlib.pyplot as plt\n",
    "import numpy as np\n",
    "import pandas as pd\n",
    "# import random\n",
    "import requests\n",
    "import yaml\n",
    "from bmi_topography import Topography\n",
    "from ipywidgets import interact\n",
    "from matplotlib.colors import LogNorm\n",
    "from shapely.geometry import Polygon, shape\n",
    "from skimage.measure import find_contours, label\n",
    "from tqdm.notebook import tqdm"
   ]
  },
  {
   "cell_type": "code",
   "execution_count": 2,
   "id": "dad6bbb5-91b1-4fdb-8441-056b4bbde5f0",
   "metadata": {
    "tags": []
   },
   "outputs": [],
   "source": [
    "CONFIG_FILE = \"../config.yml\"\n",
    "with open(CONFIG_FILE) as handle:\n",
    "    config = yaml.safe_load(handle)\n",
    "\n",
    "\n",
    "data_dir = Path(config['global']['data_dir'])\n",
    "slr_path = data_dir / config['demo']['slr_file']\n",
    "damage_path = data_dir / config['demo']['damage_file']\n",
    "topo_cache_dir = data_dir / config['demo']['topo_cache_subdir']\n",
    "\n",
    "opentopo_api_key = config['demo']['opentopo_api_key']"
   ]
  },
  {
   "cell_type": "code",
   "execution_count": 3,
   "id": "68e03dda-6e65-4ba7-8ce8-3164ff8fb849",
   "metadata": {
    "tags": []
   },
   "outputs": [],
   "source": [
    "slr_data = pd.read_csv(slr_path).pivot(index='City', columns='Year', values='SLR')\n",
    "# display(slr_data)\n",
    "damage_data = pd.read_csv(damage_path, index_col='City')\n",
    "damage_data.columns = slr_data.columns\n",
    "# display(damage_data)\n",
    "# print(damage_data.index.symmetric_difference(slr_data.index))"
   ]
  },
  {
   "cell_type": "code",
   "execution_count": 4,
   "id": "44c90f89-4060-4800-9837-474de4d42e5c",
   "metadata": {
    "tags": []
   },
   "outputs": [
    {
     "data": {
      "application/vnd.jupyter.widget-view+json": {
       "model_id": "6c1257adfafa451bb07ec265e6c17f4d",
       "version_major": 2,
       "version_minor": 0
      },
      "text/plain": [
       "interactive(children=(Dropdown(description='city', options=('Abidjan', 'Accra', 'Adelaide', 'Alexandria', 'Alg…"
      ]
     },
     "metadata": {},
     "output_type": "display_data"
    }
   ],
   "source": [
    "@interact(city=slr_data.index, year=slr_data.columns)\n",
    "def plot(city, year):\n",
    "    fig, ax = plt.subplots(figsize=(12, 6))\n",
    "\n",
    "    slr_data.loc[city].plot(label=\"Sea level rise (left)\", ax=ax)\n",
    "    ax.scatter(year, slr_data.loc[city, year], c='r', s=100, zorder=2)\n",
    "    ax.set_ylabel(\"Mean modelled SLR (metres)\")\n",
    "    ax.set_title(city)\n",
    "\n",
    "    ax2 = damage_data.loc[city].plot(secondary_y=True, ax=ax, label=\"Damages\")\n",
    "    ax2.scatter(year, damage_data.loc[city, year], c='r', s=100, zorder=2)\n",
    "    lines, labels = ax.get_legend_handles_labels()\n",
    "    lines2, labels2 = ax2.get_legend_handles_labels()\n",
    "    ax2.legend(lines + lines2, labels + labels2, loc=0)\n",
    "    ax2.set_ylabel(\"Expected damages under RCP8.5 (million USD (2005))\")\n",
    "    \n",
    "    \n",
    "    url = f\"https://nominatim.openstreetmap.org/search?q={city}&polygon_geojson=1&format=json\"\n",
    "    results = requests.get(url, headers={'User-Agent': 'test'})\n",
    "    results.raise_for_status()\n",
    "    top = next(r for r in results.json() if r['class'] == 'boundary' and r['type'] == 'administrative')\n",
    "    \n",
    "    location = (float(top['lat']), float(top['lon']))\n",
    "    bbox = [float(s) for s in top['boundingbox']]\n",
    "    \n",
    "    f = folium.Figure(width=12*65, height=6*65)\n",
    "    m = folium.Map(location, tiles='CartoDB positron')\n",
    "    m.add_to(f)\n",
    "\n",
    "    boundary = gpd.GeoDataFrame(geometry=[shape(top['geojson'])], crs='epsg:4326')\n",
    "    folium.GeoJson(\n",
    "        boundary,\n",
    "        style_function=lambda _: {'weight': 0}\n",
    "    ).add_to(m)\n",
    "\n",
    "    topo = Topography(\n",
    "        dem_type='COP90',\n",
    "        south=bbox[0],\n",
    "        north=bbox[1],\n",
    "        west=bbox[2],\n",
    "        east=bbox[3],\n",
    "        output_format='GTiff',\n",
    "        cache_dir=topo_cache_dir,\n",
    "        api_key=opentopo_api_key\n",
    "    )\n",
    "    print(\"Downloading data...\", end=\" \")\n",
    "    topo.fetch()\n",
    "    print(\"done.\")\n",
    "    data = topo.load().sel(band=1)\n",
    "    # display(data)\n",
    "    # fig, ax = plt.subplots(figsize=(12, 6))\n",
    "    # data.plot(cmap='Greys', vmin=data.min(), vmax=20, ax=ax)\n",
    "    # print(slr_data.loc[city, year])\n",
    "    flood = (data >= 1e-6) & (data <= slr_data.loc[city, year])\n",
    "    labels, num_labels = label(flood, return_num=True)\n",
    "    # ax.imshow(flood, cmap='tab10')\n",
    "    if num_labels:\n",
    "        sx, _, tx, _, sy, ty = data.attrs['transform']\n",
    "        polygons = []\n",
    "        print(\"Computing levels...\")\n",
    "        for i in tqdm(range(1, num_labels)):\n",
    "            label_map = labels == i\n",
    "            if label_map.sum() < 4:\n",
    "                continue\n",
    "            # Add 1px wide zero-padding to close all contours\n",
    "            label_map = np.pad(label_map, 1)\n",
    "            # Substract 1 to remove padding, then scale and translate to\n",
    "            # put in map coordinates.\n",
    "            contours = [\n",
    "                np.fliplr(contour - 1) * [sx, sy] + [tx, ty]\n",
    "                for contour in find_contours(label_map, 0)\n",
    "            ]\n",
    "            # The exterior bound has the largest area.\n",
    "            areas = np.array([Polygon(c).area for c in contours])\n",
    "            exterior_id = np.argmax(areas)\n",
    "            # print(areas[exterior_id])\n",
    "            if areas[exterior_id] < 1e-6:\n",
    "                continue\n",
    "            # print(\"Ho\")\n",
    "            exterior = contours.pop(exterior_id)\n",
    "            polygons.append(Polygon(exterior, contours).buffer(0))\n",
    "            # ax.plot(contour[:, 0], contour[:, 1], linewidth=2)\n",
    "        # data[0].plot.contourf(levels=[0, 10], ax=ax, colors=['none', (1, 0, 0, 0.2), 'none'])\n",
    "        # print([p.centroid.coords[0] for p in polygons])\n",
    "\n",
    "        if polygons:\n",
    "            polygons_gdf = gpd.GeoDataFrame(\n",
    "                geometry=polygons,\n",
    "                crs=data.attrs['crs'].split('=')[1]\n",
    "            ).sjoin(boundary)\n",
    "            if not polygons_gdf.empty:\n",
    "                folium.GeoJson(\n",
    "                    polygons_gdf,\n",
    "                    style_function=lambda _: {'color': 'red'}  #random.choice(['red', 'black', 'blue'])}\n",
    "                ).add_to(m)\n",
    "    \n",
    "    display(f)\n"
   ]
  }
 ],
 "metadata": {
  "kernelspec": {
   "display_name": "Python 3 (ipykernel)",
   "language": "python",
   "name": "python3"
  },
  "language_info": {
   "codemirror_mode": {
    "name": "ipython",
    "version": 3
   },
   "file_extension": ".py",
   "mimetype": "text/x-python",
   "name": "python",
   "nbconvert_exporter": "python",
   "pygments_lexer": "ipython3",
   "version": "3.10.4"
  }
 },
 "nbformat": 4,
 "nbformat_minor": 5
}
