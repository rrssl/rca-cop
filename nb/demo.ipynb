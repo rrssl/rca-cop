{
 "cells": [
  {
   "cell_type": "code",
   "execution_count": 1,
   "id": "b97c60c5-1c25-481f-a1c5-508ecbd1f344",
   "metadata": {
    "tags": []
   },
   "outputs": [],
   "source": [
    "from pathlib import Path\n",
    "\n",
    "import geopandas as gpd\n",
    "import folium\n",
    "import ipywidgets as widgets\n",
    "import matplotlib.pyplot as plt\n",
    "import numpy as np\n",
    "import pandas as pd\n",
    "import yaml\n",
    "from bmi_topography import Topography\n",
    "from ipywidgets import interact\n",
    "from matplotlib.colors import LogNorm"
   ]
  },
  {
   "cell_type": "code",
   "execution_count": 2,
   "id": "dad6bbb5-91b1-4fdb-8441-056b4bbde5f0",
   "metadata": {
    "tags": []
   },
   "outputs": [],
   "source": [
    "CONFIG_FILE = \"../config.yml\"\n",
    "with open(CONFIG_FILE) as handle:\n",
    "    config = yaml.safe_load(handle)\n",
    "\n",
    "\n",
    "data_dir = Path(config['global']['data_dir'])\n",
    "slr_path = data_dir / config['demo']['slr_file']\n",
    "damage_path = data_dir / config['demo']['damage_file']\n",
    "topo_cache_dir = data_dir / config['demo']['topo_cache_subdir']\n",
    "\n",
    "opentopo_api_key = config['demo']['opentopo_api_key']"
   ]
  },
  {
   "cell_type": "code",
   "execution_count": 3,
   "id": "68e03dda-6e65-4ba7-8ce8-3164ff8fb849",
   "metadata": {
    "tags": []
   },
   "outputs": [],
   "source": [
    "slr_data = pd.read_csv(slr_path).pivot(index='City', columns='Year', values='SLR')\n",
    "# display(slr_data)\n",
    "damage_data = pd.read_csv(damage_path, index_col='City')\n",
    "damage_data.columns = slr_data.columns\n",
    "# display(damage_data)\n",
    "# print(damage_data.index.symmetric_difference(slr_data.index))"
   ]
  },
  {
   "cell_type": "code",
   "execution_count": 4,
   "id": "44c90f89-4060-4800-9837-474de4d42e5c",
   "metadata": {
    "tags": []
   },
   "outputs": [
    {
     "data": {
      "application/vnd.jupyter.widget-view+json": {
       "model_id": "8d69de7bd0dd4924aec7aecdd33880e6",
       "version_major": 2,
       "version_minor": 0
      },
      "text/plain": [
       "interactive(children=(Dropdown(description='city', options=('Abidjan', 'Accra', 'Adelaide', 'Alexandria', 'Alg…"
      ]
     },
     "metadata": {},
     "output_type": "display_data"
    }
   ],
   "source": [
    "@interact(city=slr_data.index)\n",
    "def plot(city):\n",
    "    fig, ax = plt.subplots(figsize=(12, 6))\n",
    "\n",
    "    slr_data.loc[city].plot(label=\"Sea level rise (left)\", ax=ax)\n",
    "    ax.set_ylabel(\"Mean modelled SLR (metres)\")\n",
    "    ax.set_title(city)\n",
    "\n",
    "    ax2 = damage_data.loc[city].plot(secondary_y=True, ax=ax, label=\"Damages\")\n",
    "    lines, labels = ax.get_legend_handles_labels()\n",
    "    lines2, labels2 = ax2.get_legend_handles_labels()\n",
    "    ax2.legend(lines + lines2, labels + labels2, loc=0)\n",
    "    ax2.set_ylabel(\"Expected damages under RCP8.5 (million USD (2005))\")\n",
    "    \n",
    "    location = gpd.tools.geocode(city, provider='nominatim', user_agent='test')\n",
    "    \n",
    "    f = folium.Figure(width=12*65, height=6*65)\n",
    "    m = location.explore(tiles='CartoDB positron', zoom_start=12)\n",
    "    m.add_to(f)\n",
    "    display(f)\n",
    "    \n",
    "    lonlat = location.at[0, 'geometry'].coords[0]\n",
    "    topo = Topography(\n",
    "        dem_type='SRTMGL3',\n",
    "        south=lonlat[1]-.1,\n",
    "        north=lonlat[1]+.1,\n",
    "        west=lonlat[0]-.1,\n",
    "        east=lonlat[0]+.1,\n",
    "        output_format='GTiff',\n",
    "        cache_dir=topo_cache_dir,\n",
    "        api_key=opentopo_api_key\n",
    "    )\n",
    "    topo.fetch()\n",
    "    data = topo.load()\n",
    "    fig, ax = plt.subplots(figsize=(12, 6))\n",
    "    data[0].plot(cmap='Greys', vmin=data[0].min(), vmax=20, ax=ax)\n",
    "    data[0].plot.contourf(levels=[0, 10], ax=ax, colors=['none', (1, 0, 0, 0.2), 'none'])"
   ]
  }
 ],
 "metadata": {
  "kernelspec": {
   "display_name": "Python 3 (ipykernel)",
   "language": "python",
   "name": "python3"
  },
  "language_info": {
   "codemirror_mode": {
    "name": "ipython",
    "version": 3
   },
   "file_extension": ".py",
   "mimetype": "text/x-python",
   "name": "python",
   "nbconvert_exporter": "python",
   "pygments_lexer": "ipython3",
   "version": "3.10.4"
  }
 },
 "nbformat": 4,
 "nbformat_minor": 5
}
