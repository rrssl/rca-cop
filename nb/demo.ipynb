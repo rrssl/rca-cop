{
 "cells": [
  {
   "cell_type": "code",
   "execution_count": 1,
   "id": "b97c60c5-1c25-481f-a1c5-508ecbd1f344",
   "metadata": {
    "tags": []
   },
   "outputs": [],
   "source": [
    "from pathlib import Path\n",
    "\n",
    "import geopandas as gpd\n",
    "import folium\n",
    "import ipywidgets as widgets\n",
    "import matplotlib.pyplot as plt\n",
    "import numpy as np\n",
    "import pandas as pd\n",
    "import requests\n",
    "import yaml\n",
    "from bmi_topography import Topography\n",
    "from ipywidgets import interact\n",
    "from matplotlib.colors import LogNorm\n",
    "from shapely.geometry import LineString, shape\n",
    "from skimage.measure import find_contours"
   ]
  },
  {
   "cell_type": "code",
   "execution_count": 2,
   "id": "dad6bbb5-91b1-4fdb-8441-056b4bbde5f0",
   "metadata": {
    "tags": []
   },
   "outputs": [],
   "source": [
    "CONFIG_FILE = \"../config.yml\"\n",
    "with open(CONFIG_FILE) as handle:\n",
    "    config = yaml.safe_load(handle)\n",
    "\n",
    "\n",
    "data_dir = Path(config['global']['data_dir'])\n",
    "slr_path = data_dir / config['demo']['slr_file']\n",
    "damage_path = data_dir / config['demo']['damage_file']\n",
    "topo_cache_dir = data_dir / config['demo']['topo_cache_subdir']\n",
    "\n",
    "opentopo_api_key = config['demo']['opentopo_api_key']"
   ]
  },
  {
   "cell_type": "code",
   "execution_count": 3,
   "id": "68e03dda-6e65-4ba7-8ce8-3164ff8fb849",
   "metadata": {
    "tags": []
   },
   "outputs": [],
   "source": [
    "slr_data = pd.read_csv(slr_path).pivot(index='City', columns='Year', values='SLR')\n",
    "# display(slr_data)\n",
    "damage_data = pd.read_csv(damage_path, index_col='City')\n",
    "damage_data.columns = slr_data.columns\n",
    "# display(damage_data)\n",
    "# print(damage_data.index.symmetric_difference(slr_data.index))"
   ]
  },
  {
   "cell_type": "code",
   "execution_count": 44,
   "id": "44c90f89-4060-4800-9837-474de4d42e5c",
   "metadata": {
    "tags": []
   },
   "outputs": [
    {
     "data": {
      "application/vnd.jupyter.widget-view+json": {
       "model_id": "521da7c13be14c73be8a1a71f4b45692",
       "version_major": 2,
       "version_minor": 0
      },
      "text/plain": [
       "interactive(children=(Dropdown(description='city', options=('Abidjan', 'Accra', 'Adelaide', 'Alexandria', 'Alg…"
      ]
     },
     "metadata": {},
     "output_type": "display_data"
    }
   ],
   "source": [
    "@interact(city=slr_data.index)\n",
    "def plot(city):\n",
    "    fig, ax = plt.subplots(figsize=(12, 6))\n",
    "\n",
    "    slr_data.loc[city].plot(label=\"Sea level rise (left)\", ax=ax)\n",
    "    ax.set_ylabel(\"Mean modelled SLR (metres)\")\n",
    "    ax.set_title(city)\n",
    "\n",
    "    ax2 = damage_data.loc[city].plot(secondary_y=True, ax=ax, label=\"Damages\")\n",
    "    lines, labels = ax.get_legend_handles_labels()\n",
    "    lines2, labels2 = ax2.get_legend_handles_labels()\n",
    "    ax2.legend(lines + lines2, labels + labels2, loc=0)\n",
    "    ax2.set_ylabel(\"Expected damages under RCP8.5 (million USD (2005))\")\n",
    "    \n",
    "    url = f\"https://nominatim.openstreetmap.org/search?q={city}&polygon_geojson=1&format=json\"\n",
    "    results = requests.get(url, headers={'User-Agent': 'test'})\n",
    "    results.raise_for_status()\n",
    "    top = next(r for r in results.json() if r['class'] == 'boundary' and r['type'] == 'administrative')\n",
    "    \n",
    "    location = (float(top['lat']), float(top['lon']))\n",
    "    bbox = [float(s) for s in top['boundingbox']]\n",
    "    \n",
    "    f = folium.Figure(width=12*65, height=6*65)\n",
    "    m = folium.Map(location, tiles='CartoDB positron')\n",
    "\n",
    "    boundary = gpd.GeoDataFrame(geometry=[shape(top['geojson'])], crs='epsg:4326')\n",
    "    folium.GeoJson(\n",
    "        boundary,\n",
    "        style_function=lambda _: {'weight': 0}\n",
    "    ).add_to(m)\n",
    "\n",
    "    topo = Topography(\n",
    "        dem_type='SRTMGL3',\n",
    "        south=bbox[0],\n",
    "        north=bbox[1],\n",
    "        west=bbox[2],\n",
    "        east=bbox[3],\n",
    "        output_format='GTiff',\n",
    "        cache_dir=topo_cache_dir,\n",
    "        api_key=opentopo_api_key\n",
    "    )\n",
    "    topo.fetch()\n",
    "    data = topo.load().sel(band=1)\n",
    "    # display(data)\n",
    "    # fig, ax = plt.subplots(figsize=(12, 6))\n",
    "    # data.plot(cmap='Greys', vmin=data.min(), vmax=20, ax=ax)\n",
    "    \n",
    "    contours = find_contours(data.values, 0)\n",
    "    sx, _, tx, _, sy, ty = data.attrs['transform']\n",
    "    lines = []\n",
    "    for contour in contours:\n",
    "        # if contour.shape[0] <= 4:\n",
    "        #     continue\n",
    "        contour = np.fliplr(contour) * [sx, sy] + [tx, ty]\n",
    "        lines.append(LineString(contour))\n",
    "        # ax.plot(contour[:, 0], contour[:, 1], linewidth=2)\n",
    "    # data[0].plot.contourf(levels=[0, 10], ax=ax, colors=['none', (1, 0, 0, 0.2), 'none'])\n",
    "    \n",
    "    lines_gdf = gpd.GeoDataFrame(geometry=lines, crs=data.attrs['crs'].split('=')[1])\n",
    "    lines_gdf = lines_gdf.sjoin(boundary)\n",
    "    folium.GeoJson(\n",
    "        lines_gdf,\n",
    "        style_function=lambda _: {'color': 'red'}\n",
    "    ).add_to(m)\n",
    "    \n",
    "    m.add_to(f)\n",
    "    display(f)"
   ]
  }
 ],
 "metadata": {
  "kernelspec": {
   "display_name": "Python 3 (ipykernel)",
   "language": "python",
   "name": "python3"
  },
  "language_info": {
   "codemirror_mode": {
    "name": "ipython",
    "version": 3
   },
   "file_extension": ".py",
   "mimetype": "text/x-python",
   "name": "python",
   "nbconvert_exporter": "python",
   "pygments_lexer": "ipython3",
   "version": "3.10.4"
  }
 },
 "nbformat": 4,
 "nbformat_minor": 5
}
